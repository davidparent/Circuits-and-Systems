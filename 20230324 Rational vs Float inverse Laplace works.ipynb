{
 "cells": [
  {
   "cell_type": "code",
   "execution_count": 1,
   "id": "76f2437d",
   "metadata": {},
   "outputs": [],
   "source": [
    "from sympy import *"
   ]
  },
  {
   "cell_type": "code",
   "execution_count": 2,
   "id": "9820cf17",
   "metadata": {},
   "outputs": [],
   "source": [
    "s=symbols(\"s\", positive=True)\n",
    "t=symbols(\"t\", real=True)"
   ]
  },
  {
   "cell_type": "code",
   "execution_count": 3,
   "id": "ee7dbf8c",
   "metadata": {},
   "outputs": [],
   "source": [
    "H=1/s"
   ]
  },
  {
   "cell_type": "code",
   "execution_count": 4,
   "id": "b3cbe250",
   "metadata": {},
   "outputs": [
    {
     "data": {
      "text/latex": [
       "$\\displaystyle \\theta\\left(t\\right)$"
      ],
      "text/plain": [
       "Heaviside(t)"
      ]
     },
     "execution_count": 4,
     "metadata": {},
     "output_type": "execute_result"
    }
   ],
   "source": [
    "h=inverse_laplace_transform(H,s,t)\n",
    "h"
   ]
  },
  {
   "cell_type": "code",
   "execution_count": 5,
   "id": "de023273",
   "metadata": {},
   "outputs": [],
   "source": [
    "G=1/s"
   ]
  },
  {
   "cell_type": "code",
   "execution_count": 6,
   "id": "f24b0893",
   "metadata": {},
   "outputs": [
    {
     "data": {
      "text/latex": [
       "$\\displaystyle t \\theta\\left(t\\right)$"
      ],
      "text/plain": [
       "t*Heaviside(t)"
      ]
     },
     "execution_count": 6,
     "metadata": {},
     "output_type": "execute_result"
    }
   ],
   "source": [
    "F=G*H\n",
    "f=inverse_laplace_transform(F,s,t)\n",
    "f"
   ]
  },
  {
   "cell_type": "code",
   "execution_count": 7,
   "id": "9b88c811",
   "metadata": {},
   "outputs": [
    {
     "data": {
      "text/latex": [
       "$\\displaystyle \\theta\\left(t\\right) - e^{- t} \\theta\\left(t\\right)$"
      ],
      "text/plain": [
       "Heaviside(t) - exp(-t)*Heaviside(t)"
      ]
     },
     "execution_count": 7,
     "metadata": {},
     "output_type": "execute_result"
    }
   ],
   "source": [
    "H=1/(s+1)\n",
    "F=G*H\n",
    "f=inverse_laplace_transform(F,s,t).simplify().expand()\n",
    "f"
   ]
  },
  {
   "cell_type": "code",
   "execution_count": 8,
   "id": "027efeac",
   "metadata": {},
   "outputs": [
    {
     "data": {
      "text/latex": [
       "$\\displaystyle 1.0 \\theta\\left(t\\right) - 1.0 e^{- t} \\theta\\left(t\\right)$"
      ],
      "text/plain": [
       "1.0*Heaviside(t) - 1.0*exp(-t)*Heaviside(t)"
      ]
     },
     "execution_count": 8,
     "metadata": {},
     "output_type": "execute_result"
    }
   ],
   "source": [
    "H=1.0/(s+1.0)\n",
    "F=G*H\n",
    "f=inverse_laplace_transform(F,s,t).simplify().expand()\n",
    "f"
   ]
  },
  {
   "cell_type": "code",
   "execution_count": 9,
   "id": "028b9ba0",
   "metadata": {},
   "outputs": [
    {
     "data": {
      "text/latex": [
       "$\\displaystyle \\theta\\left(t\\right) - \\frac{10 e^{- 10 t} \\theta\\left(t\\right)}{9} + \\frac{e^{- 100 t} \\theta\\left(t\\right)}{9}$"
      ],
      "text/plain": [
       "Heaviside(t) - 10*exp(-10*t)*Heaviside(t)/9 + exp(-100*t)*Heaviside(t)/9"
      ]
     },
     "execution_count": 9,
     "metadata": {},
     "output_type": "execute_result"
    }
   ],
   "source": [
    "H=1000/(s+10)/(s+100)\n",
    "F=G*H\n",
    "f=inverse_laplace_transform(F,s,t).simplify().expand()\n",
    "f"
   ]
  },
  {
   "cell_type": "code",
   "execution_count": 10,
   "id": "fcadd4d4",
   "metadata": {},
   "outputs": [
    {
     "data": {
      "text/latex": [
       "$\\displaystyle \\theta\\left(t\\right) - \\frac{2 \\sqrt{280173} e^{- \\frac{t}{2}} \\sin{\\left(\\frac{\\sqrt{280173} t}{366} \\right)} \\theta\\left(t\\right)}{1531}$"
      ],
      "text/plain": [
       "Heaviside(t) - 2*sqrt(280173)*exp(-t/2)*sin(sqrt(280173)*t/366)*Heaviside(t)/1531"
      ]
     },
     "execution_count": 10,
     "metadata": {},
     "output_type": "execute_result"
    }
   ],
   "source": [
    "import sympy as sympy\n",
    "#wo^2=2.34153145345 chosen to break the inverse laplace transform.\n",
    "H=(s**2+2.34153145345)/(s**2+s+2.34153145345)\n",
    "F=G*H\n",
    "#Use Apart first.  Apart can turn rationals into floats\n",
    "F=apart(G*H,s)\n",
    "# We ahve to turn the floats into rationals or the inverse laplace might not work.\n",
    "for i in F.atoms(sympy.Float):\n",
    "        r = sympy.Rational(i).limit_denominator(1000)\n",
    "        F = F.subs(i, r)\n",
    "f=inverse_laplace_transform(F,s,t).simplify().expand()\n",
    "f"
   ]
  },
  {
   "cell_type": "code",
   "execution_count": 11,
   "id": "65744f39",
   "metadata": {},
   "outputs": [
    {
     "data": {
      "text/latex": [
       "$\\displaystyle \\theta\\left(t\\right) - 0.691461406407671 e^{- \\frac{t}{2}} \\sin{\\left(\\frac{\\sqrt{280173} t}{366} \\right)} \\theta\\left(t\\right)$"
      ],
      "text/plain": [
       "Heaviside(t) - 0.691461406407671*exp(-t/2)*sin(sqrt(280173)*t/366)*Heaviside(t)"
      ]
     },
     "execution_count": 11,
     "metadata": {},
     "output_type": "execute_result"
    }
   ],
   "source": [
    "f=sympy.N(f)\n",
    "f"
   ]
  },
  {
   "cell_type": "code",
   "execution_count": 12,
   "id": "96b23506",
   "metadata": {},
   "outputs": [
    {
     "data": {
      "image/png": "[encoded data removed]",
      "text/plain": [
       "<Figure size 432x288 with 1 Axes>"
      ]
     },
     "metadata": {
      "needs_background": "light"
     },
     "output_type": "display_data"
    }
   ],
   "source": [
    "import numpy as np\n",
    "import matplotlib.pyplot as plt\n",
    "N=1000\n",
    "time=np.linspace(-1,10,N)\n",
    "flam = lambdify(t, f, \"numpy\")\n",
    "fig = plt.figure()\n",
    "ax = fig.add_subplot(1,1,1)\n",
    "fig.subplots_adjust(left=0.25, bottom=0.25)\n",
    "legend='$g(t)*h(t) $'\n",
    "[line] = ax.plot(time, flam(time), linewidth=2, color='blue',label=legend)\n",
    "ax.set_xlabel('Time (s)',fontsize=12)\n",
    "ax.set_ylabel('Arbritrary units',fontsize=12) \n",
    "ax.legend()\n",
    "ax.set_title('Step Reponse of Underdamped Notch pass Filter')\n",
    "ax.grid()\n"
   ]
  },
  {
   "cell_type": "code",
   "execution_count": null,
   "id": "a77c1fec",
   "metadata": {},
   "outputs": [],
   "source": []
  }
 ],
 "metadata": {
  "kernelspec": {
   "display_name": "Python 3 (ipykernel)",
   "language": "python",
   "name": "python3"
  },
  "language_info": {
   "codemirror_mode": {
    "name": "ipython",
    "version": 3
   },
   "file_extension": ".py",
   "mimetype": "text/x-python",
   "name": "python",
   "nbconvert_exporter": "python",
   "pygments_lexer": "ipython3",
   "version": "3.9.12"
  }
 },
 "nbformat": 4,
 "nbformat_minor": 5
}
