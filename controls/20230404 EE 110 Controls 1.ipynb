{
 "cells": [
  {
   "cell_type": "markdown",
   "id": "d088f12f",
   "metadata": {},
   "source": [
    "# Controls 1\n",
    "Control system analysis assumes the system you are working with is linear (If you multiply the input by a scale factor, the output is multiplier by the same scale factor.) and time invariant. (Applying the input now gives the same output if you applied it later.) You will find that nothing is really linear, or time invariant.  What we do is narrow the scope of the input to the system so the system is close to linear, and we limit the time the system is guaranteed for, so it is is close to time invariant. Another way we ensure time invariance is to specify the power, temperature, humidity, radiation levels that system is exposed to."
   ]
  },
  {
   "cell_type": "markdown",
   "id": "f3fdf973",
   "metadata": {},
   "source": [
    "## Automatic Control\n",
    "The point of control systems to is automate the process of control. Cruise control controls the speed of the car.  An LM317 controls the voltage supplied to a system as the load current demand changes in time. Pace makers seek to control heart rate, and of course robots are made of multiple layers of control systems."
   ]
  },
  {
   "cell_type": "markdown",
   "id": "3a5a809a",
   "metadata": {},
   "source": [
    "## What is a control system?\n",
    "A control systems is composed of a summer, a system that needs to be controlled (mathematically represented by a transfer function.H(s)), components that measure the state of a system (velocity, temperature, voltage), a feedback control system (represented mathematically by another transfer function, G(s)) and a feedback loops that subtracts the output of the feedback system from he original input.  In many controls classes the physical part of the systems is stripped and everything is assumed to be a linear time invariant system with a signal flow diagram.  The complete system has a transfer function as well (Q(s))."
   ]
  },
  {
   "cell_type": "markdown",
   "id": "e7221fff",
   "metadata": {},
   "source": [
    "$$\n",
    "Q(s)=\\frac{H(s)}{1+G(s)\\times  H(s)}\n",
    "$$\n",
    "Where $Q(s)$ is the transfer function of the complete system.  $H(s)$ is the transfer function of the system to be controlled, and $G(s)$ is the transfer function of the feedback control.  THe figure below is the block diagram of a simple control system."
   ]
  },
  {
   "cell_type": "code",
   "execution_count": 1,
   "id": "9a8a322c",
   "metadata": {},
   "outputs": [
    {
     "data": {
      "image/png": "[encoded data removed]",
      "image/svg+xml": [
       "<?xml version=\"1.0\" encoding=\"utf-8\" standalone=\"no\"?>\n",
       "<!DOCTYPE svg PUBLIC \"-//W3C//DTD SVG 1.1//EN\"\n",
       "  \"http://www.w3.org/Graphics/SVG/1.1/DTD/svg11.dtd\">\n",
       "<svg xmlns:xlink=\"http://www.w3.org/1999/xlink\" width=\"269.553pt\" height=\"106.54pt\" viewBox=\"0 0 269.553 106.54\" xmlns=\"http://www.w3.org/2000/svg\" version=\"1.1\">\n",
       " <metadata>\n",
       "  <rdf:RDF xmlns:dc=\"http://purl.org/dc/elements/1.1/\" xmlns:cc=\"http://creativecommons.org/ns#\" xmlns:rdf=\"http://www.w3.org/1999/02/22-rdf-syntax-ns#\">\n",
       "   <cc:Work>\n",
       "    <dc:type rdf:resource=\"http://purl.org/dc/dcmitype/StillImage\"/>\n",
       "    <dc:date>2023-04-04T13:18:16.228022</dc:date>\n",
       "    <dc:format>image/svg+xml</dc:format>\n",
       "    <dc:creator>\n",
       "     <cc:Agent>\n",
       "      <dc:title>Matplotlib v3.7.0, https://matplotlib.org/</dc:title>\n",
       "     </cc:Agent>\n",
       "    </dc:creator>\n",
       "   </cc:Work>\n",
       "  </rdf:RDF>\n",
       " </metadata>\n",
       " <defs>\n",
       "  <style type=\"text/css\">*{stroke-linejoin: round; stroke-linecap: butt}</style>\n",
       " </defs>\n",
       " <g id=\"figure_1\">\n",
       "  <g id=\"patch_1\">\n",
       "   <path d=\"M -0 106.54 \n",
       "L 269.553 106.54 \n",
       "L 269.553 0 \n",
       "L -0 0 \n",
       "z\n",
       "\" style=\"fill: #ffffff\"/>\n",
       "  </g>\n",
       "  <g id=\"axes_1\">\n",
       "   <g id=\"patch_2\">\n",
       "    <path d=\"M 90.993 50.38 \n",
       "C 95.050607 50.38 98.942572 48.767895 101.811734 45.898734 \n",
       "C 104.680895 43.029572 106.293 39.137607 106.293 35.08 \n",
       "C 106.293 31.022393 104.680895 27.130428 101.811734 24.261266 \n",
       "C 98.942572 21.392105 95.050607 19.78 90.993 19.78 \n",
       "C 86.935393 19.78 83.043428 21.392105 80.174266 24.261266 \n",
       "C 77.305105 27.130428 75.693 31.022393 75.693 35.08 \n",
       "C 75.693 39.137607 77.305105 43.029572 80.174266 45.898734 \n",
       "C 83.043428 48.767895 86.935393 50.38 90.993 50.38 \n",
       "L 90.993 50.38 \n",
       "z\n",
       "\" clip-path=\"url(#pc6a496dd34)\" style=\"fill: none; stroke: #000000; stroke-width: 2; stroke-linejoin: miter\"/>\n",
       "   </g>\n",
       "   <g id=\"line2d_1\">\n",
       "    <path d=\"M 29.793 35.08 \n",
       "L 52.743 35.08 \n",
       "L 68.043 35.08 \n",
       "\" clip-path=\"url(#pc6a496dd34)\" style=\"fill: none; stroke: #000000; stroke-width: 2; stroke-linecap: round\"/>\n",
       "   </g>\n",
       "   <g id=\"patch_3\">\n",
       "    <path d=\"M 68.043 32.785 \n",
       "L 75.693 35.08 \n",
       "L 68.043 37.375 \n",
       "z\n",
       "\" clip-path=\"url(#pc6a496dd34)\"/>\n",
       "   </g>\n",
       "   <g id=\"line2d_2\">\n",
       "    <path d=\"M 106.293 35.08 \n",
       "L 129.243 35.08 \n",
       "L 144.543 35.08 \n",
       "\" clip-path=\"url(#pc6a496dd34)\" style=\"fill: none; stroke: #000000; stroke-width: 2; stroke-linecap: round\"/>\n",
       "   </g>\n",
       "   <g id=\"patch_4\">\n",
       "    <path d=\"M 144.543 32.785 \n",
       "L 152.193 35.08 \n",
       "L 144.543 37.375 \n",
       "z\n",
       "\" clip-path=\"url(#pc6a496dd34)\"/>\n",
       "   </g>\n",
       "   <g id=\"line2d_3\">\n",
       "    <path d=\"M 152.193 35.08 \n",
       "L 152.193 19.78 \n",
       "L 213.393 19.78 \n",
       "L 213.393 50.38 \n",
       "L 152.193 50.38 \n",
       "L 152.193 35.08 \n",
       "\" clip-path=\"url(#pc6a496dd34)\" style=\"fill: none; stroke: #000000; stroke-width: 2; stroke-linecap: round\"/>\n",
       "   </g>\n",
       "   <g id=\"line2d_4\">\n",
       "    <path d=\"M 213.393 35.08 \n",
       "L 236.343 35.08 \n",
       "L 251.643 35.08 \n",
       "\" clip-path=\"url(#pc6a496dd34)\" style=\"fill: none; stroke: #000000; stroke-width: 2; stroke-linecap: round\"/>\n",
       "   </g>\n",
       "   <g id=\"patch_5\">\n",
       "    <path d=\"M 251.643 32.785 \n",
       "L 259.293 35.08 \n",
       "L 251.643 37.375 \n",
       "z\n",
       "\" clip-path=\"url(#pc6a496dd34)\"/>\n",
       "   </g>\n",
       "   <g id=\"line2d_5\">\n",
       "    <path d=\"M 236.343 35.08 \n",
       "L 236.343 58.03 \n",
       "L 236.343 80.98 \n",
       "\" clip-path=\"url(#pc6a496dd34)\" style=\"fill: none; stroke: #000000; stroke-width: 2; stroke-linecap: round\"/>\n",
       "   </g>\n",
       "   <g id=\"line2d_6\">\n",
       "    <path d=\"M 236.343 80.98 \n",
       "L 213.393 80.98 \n",
       "L 198.093 80.98 \n",
       "\" clip-path=\"url(#pc6a496dd34)\" style=\"fill: none; stroke: #000000; stroke-width: 2; stroke-linecap: round\"/>\n",
       "   </g>\n",
       "   <g id=\"patch_6\">\n",
       "    <path d=\"M 198.093 83.275 \n",
       "L 190.443 80.98 \n",
       "L 198.093 78.685 \n",
       "z\n",
       "\" clip-path=\"url(#pc6a496dd34)\"/>\n",
       "   </g>\n",
       "   <g id=\"line2d_7\">\n",
       "    <path d=\"M 156.783 80.98 \n",
       "L 156.783 65.68 \n",
       "L 190.443 65.68 \n",
       "L 190.443 96.28 \n",
       "L 156.783 96.28 \n",
       "L 156.783 80.98 \n",
       "\" clip-path=\"url(#pc6a496dd34)\" style=\"fill: none; stroke: #000000; stroke-width: 2; stroke-linecap: round\"/>\n",
       "   </g>\n",
       "   <g id=\"line2d_8\">\n",
       "    <path d=\"M 156.783 80.98 \n",
       "L 123.888 80.98 \n",
       "L 90.993 80.98 \n",
       "\" clip-path=\"url(#pc6a496dd34)\" style=\"fill: none; stroke: #000000; stroke-width: 2; stroke-linecap: round\"/>\n",
       "   </g>\n",
       "   <g id=\"line2d_9\">\n",
       "    <path d=\"M 90.993 80.98 \n",
       "L 90.993 65.68 \n",
       "L 90.993 58.03 \n",
       "\" clip-path=\"url(#pc6a496dd34)\" style=\"fill: none; stroke: #000000; stroke-width: 2; stroke-linecap: round\"/>\n",
       "   </g>\n",
       "   <g id=\"patch_7\">\n",
       "    <path d=\"M 88.698 58.03 \n",
       "L 90.993 50.38 \n",
       "L 93.288 58.03 \n",
       "z\n",
       "\" clip-path=\"url(#pc6a496dd34)\"/>\n",
       "   </g>\n",
       "   <g id=\"text_1\">\n",
       "    <g clip-path=\"url(#pc6a496dd34)\">\n",
       "     <!-- + -->\n",
       "     <g transform=\"translate(57.333 32.409219) scale(0.125 -0.125)\">\n",
       "      <defs>\n",
       "       <path id=\"DejaVuSans-2b\" d=\"M 2944 4013 \n",
       "L 2944 2272 \n",
       "L 4684 2272 \n",
       "L 4684 1741 \n",
       "L 2944 1741 \n",
       "L 2944 0 \n",
       "L 2419 0 \n",
       "L 2419 1741 \n",
       "L 678 1741 \n",
       "L 678 2272 \n",
       "L 2419 2272 \n",
       "L 2419 4013 \n",
       "L 2944 4013 \n",
       "z\n",
       "\" transform=\"scale(0.015625)\"/>\n",
       "      </defs>\n",
       "      <use xlink:href=\"#DejaVuSans-2b\"/>\n",
       "     </g>\n",
       "    </g>\n",
       "   </g>\n",
       "   <g id=\"text_2\">\n",
       "    <g clip-path=\"url(#pc6a496dd34)\">\n",
       "     <!-- $In$ -->\n",
       "     <g transform=\"translate(15.108 38.529219) scale(0.125 -0.125)\">\n",
       "      <defs>\n",
       "       <path id=\"DejaVuSans-Oblique-49\" d=\"M 1081 4666 \n",
       "L 1716 4666 \n",
       "L 806 0 \n",
       "L 172 0 \n",
       "L 1081 4666 \n",
       "z\n",
       "\" transform=\"scale(0.015625)\"/>\n",
       "       <path id=\"DejaVuSans-Oblique-6e\" d=\"M 3566 2113 \n",
       "L 3156 0 \n",
       "L 2578 0 \n",
       "L 2988 2091 \n",
       "Q 3016 2238 3031 2350 \n",
       "Q 3047 2463 3047 2528 \n",
       "Q 3047 2791 2881 2937 \n",
       "Q 2716 3084 2419 3084 \n",
       "Q 1956 3084 1622 2776 \n",
       "Q 1288 2469 1184 1941 \n",
       "L 800 0 \n",
       "L 225 0 \n",
       "L 903 3500 \n",
       "L 1478 3500 \n",
       "L 1363 2950 \n",
       "Q 1603 3253 1940 3418 \n",
       "Q 2278 3584 2650 3584 \n",
       "Q 3113 3584 3367 3334 \n",
       "Q 3622 3084 3622 2631 \n",
       "Q 3622 2519 3608 2391 \n",
       "Q 3594 2263 3566 2113 \n",
       "z\n",
       "\" transform=\"scale(0.015625)\"/>\n",
       "      </defs>\n",
       "      <use xlink:href=\"#DejaVuSans-Oblique-49\" transform=\"translate(0 0.09375)\"/>\n",
       "      <use xlink:href=\"#DejaVuSans-Oblique-6e\" transform=\"translate(29.492188 0.09375)\"/>\n",
       "     </g>\n",
       "    </g>\n",
       "   </g>\n",
       "   <g id=\"text_3\">\n",
       "    <g clip-path=\"url(#pc6a496dd34)\">\n",
       "     <!-- $\\Sigma$ -->\n",
       "     <g transform=\"translate(85.463 38.529219) scale(0.125 -0.125)\">\n",
       "      <defs>\n",
       "       <path id=\"DejaVuSans-3a3\" d=\"M 1353 531 \n",
       "L 3634 531 \n",
       "L 3634 0 \n",
       "L 628 0 \n",
       "L 628 531 \n",
       "L 2125 2481 \n",
       "L 628 4134 \n",
       "L 628 4666 \n",
       "L 3578 4666 \n",
       "L 3578 4134 \n",
       "L 1353 4134 \n",
       "L 2850 2494 \n",
       "L 1353 531 \n",
       "z\n",
       "\" transform=\"scale(0.015625)\"/>\n",
       "      </defs>\n",
       "      <use xlink:href=\"#DejaVuSans-3a3\" transform=\"translate(0 0.09375)\"/>\n",
       "     </g>\n",
       "    </g>\n",
       "   </g>\n",
       "   <g id=\"text_4\">\n",
       "    <g clip-path=\"url(#pc6a496dd34)\">\n",
       "     <!-- $H(s)$ -->\n",
       "     <g transform=\"translate(169.918 38.529219) scale(0.125 -0.125)\">\n",
       "      <defs>\n",
       "       <path id=\"DejaVuSans-Oblique-48\" d=\"M 1081 4666 \n",
       "L 1716 4666 \n",
       "L 1344 2753 \n",
       "L 3634 2753 \n",
       "L 4006 4666 \n",
       "L 4641 4666 \n",
       "L 3731 0 \n",
       "L 3097 0 \n",
       "L 3531 2222 \n",
       "L 1241 2222 \n",
       "L 806 0 \n",
       "L 172 0 \n",
       "L 1081 4666 \n",
       "z\n",
       "\" transform=\"scale(0.015625)\"/>\n",
       "       <path id=\"DejaVuSans-28\" d=\"M 1984 4856 \n",
       "Q 1566 4138 1362 3434 \n",
       "Q 1159 2731 1159 2009 \n",
       "Q 1159 1288 1364 580 \n",
       "Q 1569 -128 1984 -844 \n",
       "L 1484 -844 \n",
       "Q 1016 -109 783 600 \n",
       "Q 550 1309 550 2009 \n",
       "Q 550 2706 781 3412 \n",
       "Q 1013 4119 1484 4856 \n",
       "L 1984 4856 \n",
       "z\n",
       "\" transform=\"scale(0.015625)\"/>\n",
       "       <path id=\"DejaVuSans-Oblique-73\" d=\"M 3200 3397 \n",
       "L 3091 2853 \n",
       "Q 2863 2978 2609 3040 \n",
       "Q 2356 3103 2088 3103 \n",
       "Q 1634 3103 1373 2948 \n",
       "Q 1113 2794 1113 2528 \n",
       "Q 1113 2219 1719 2053 \n",
       "Q 1766 2041 1788 2034 \n",
       "L 1972 1978 \n",
       "Q 2547 1819 2739 1644 \n",
       "Q 2931 1469 2931 1166 \n",
       "Q 2931 609 2489 259 \n",
       "Q 2047 -91 1331 -91 \n",
       "Q 1053 -91 747 -37 \n",
       "Q 441 16 72 128 \n",
       "L 184 722 \n",
       "Q 500 559 806 475 \n",
       "Q 1113 391 1394 391 \n",
       "Q 1816 391 2080 572 \n",
       "Q 2344 753 2344 1031 \n",
       "Q 2344 1331 1650 1516 \n",
       "L 1591 1531 \n",
       "L 1394 1581 \n",
       "Q 956 1697 753 1886 \n",
       "Q 550 2075 550 2369 \n",
       "Q 550 2928 970 3256 \n",
       "Q 1391 3584 2113 3584 \n",
       "Q 2397 3584 2667 3537 \n",
       "Q 2938 3491 3200 3397 \n",
       "z\n",
       "\" transform=\"scale(0.015625)\"/>\n",
       "       <path id=\"DejaVuSans-29\" d=\"M 513 4856 \n",
       "L 1013 4856 \n",
       "Q 1481 4119 1714 3412 \n",
       "Q 1947 2706 1947 2009 \n",
       "Q 1947 1309 1714 600 \n",
       "Q 1481 -109 1013 -844 \n",
       "L 513 -844 \n",
       "Q 928 -128 1133 580 \n",
       "Q 1338 1288 1338 2009 \n",
       "Q 1338 2731 1133 3434 \n",
       "Q 928 4138 513 4856 \n",
       "z\n",
       "\" transform=\"scale(0.015625)\"/>\n",
       "      </defs>\n",
       "      <use xlink:href=\"#DejaVuSans-Oblique-48\" transform=\"translate(0 0.125)\"/>\n",
       "      <use xlink:href=\"#DejaVuSans-28\" transform=\"translate(75.195312 0.125)\"/>\n",
       "      <use xlink:href=\"#DejaVuSans-Oblique-73\" transform=\"translate(114.208984 0.125)\"/>\n",
       "      <use xlink:href=\"#DejaVuSans-29\" transform=\"translate(166.308594 0.125)\"/>\n",
       "     </g>\n",
       "    </g>\n",
       "   </g>\n",
       "   <g id=\"text_5\">\n",
       "    <g clip-path=\"url(#pc6a496dd34)\">\n",
       "     <!-- Out -->\n",
       "     <g transform=\"translate(225.011945 29.420391) scale(0.125 -0.125)\">\n",
       "      <defs>\n",
       "       <path id=\"DejaVuSans-4f\" d=\"M 2522 4238 \n",
       "Q 1834 4238 1429 3725 \n",
       "Q 1025 3213 1025 2328 \n",
       "Q 1025 1447 1429 934 \n",
       "Q 1834 422 2522 422 \n",
       "Q 3209 422 3611 934 \n",
       "Q 4013 1447 4013 2328 \n",
       "Q 4013 3213 3611 3725 \n",
       "Q 3209 4238 2522 4238 \n",
       "z\n",
       "M 2522 4750 \n",
       "Q 3503 4750 4090 4092 \n",
       "Q 4678 3434 4678 2328 \n",
       "Q 4678 1225 4090 567 \n",
       "Q 3503 -91 2522 -91 \n",
       "Q 1538 -91 948 565 \n",
       "Q 359 1222 359 2328 \n",
       "Q 359 3434 948 4092 \n",
       "Q 1538 4750 2522 4750 \n",
       "z\n",
       "\" transform=\"scale(0.015625)\"/>\n",
       "       <path id=\"DejaVuSans-75\" d=\"M 544 1381 \n",
       "L 544 3500 \n",
       "L 1119 3500 \n",
       "L 1119 1403 \n",
       "Q 1119 906 1312 657 \n",
       "Q 1506 409 1894 409 \n",
       "Q 2359 409 2629 706 \n",
       "Q 2900 1003 2900 1516 \n",
       "L 2900 3500 \n",
       "L 3475 3500 \n",
       "L 3475 0 \n",
       "L 2900 0 \n",
       "L 2900 538 \n",
       "Q 2691 219 2414 64 \n",
       "Q 2138 -91 1772 -91 \n",
       "Q 1169 -91 856 284 \n",
       "Q 544 659 544 1381 \n",
       "z\n",
       "M 1991 3584 \n",
       "L 1991 3584 \n",
       "z\n",
       "\" transform=\"scale(0.015625)\"/>\n",
       "       <path id=\"DejaVuSans-74\" d=\"M 1172 4494 \n",
       "L 1172 3500 \n",
       "L 2356 3500 \n",
       "L 2356 3053 \n",
       "L 1172 3053 \n",
       "L 1172 1153 \n",
       "Q 1172 725 1289 603 \n",
       "Q 1406 481 1766 481 \n",
       "L 2356 481 \n",
       "L 2356 0 \n",
       "L 1766 0 \n",
       "Q 1100 0 847 248 \n",
       "Q 594 497 594 1153 \n",
       "L 594 3053 \n",
       "L 172 3053 \n",
       "L 172 3500 \n",
       "L 594 3500 \n",
       "L 594 4494 \n",
       "L 1172 4494 \n",
       "z\n",
       "\" transform=\"scale(0.015625)\"/>\n",
       "      </defs>\n",
       "      <use xlink:href=\"#DejaVuSans-4f\"/>\n",
       "      <use xlink:href=\"#DejaVuSans-75\" x=\"78.710938\"/>\n",
       "      <use xlink:href=\"#DejaVuSans-74\" x=\"142.089844\"/>\n",
       "     </g>\n",
       "    </g>\n",
       "   </g>\n",
       "   <g id=\"text_6\">\n",
       "    <g clip-path=\"url(#pc6a496dd34)\">\n",
       "     <!-- $G(s)$ -->\n",
       "     <g transform=\"translate(160.613 84.429219) scale(0.125 -0.125)\">\n",
       "      <defs>\n",
       "       <path id=\"DejaVuSans-Oblique-47\" d=\"M 3494 697 \n",
       "L 3738 1919 \n",
       "L 2700 1919 \n",
       "L 2797 2438 \n",
       "L 4453 2438 \n",
       "L 4050 384 \n",
       "Q 3634 156 3143 32 \n",
       "Q 2653 -91 2156 -91 \n",
       "Q 1278 -91 783 396 \n",
       "Q 288 884 288 1753 \n",
       "Q 288 2475 589 3126 \n",
       "Q 891 3778 1422 4213 \n",
       "Q 1756 4484 2153 4617 \n",
       "Q 2550 4750 3034 4750 \n",
       "Q 3472 4750 3873 4639 \n",
       "Q 4275 4528 4641 4306 \n",
       "L 4513 3634 \n",
       "Q 4231 3928 3853 4083 \n",
       "Q 3475 4238 3047 4238 \n",
       "Q 2550 4238 2172 4048 \n",
       "Q 1794 3859 1497 3463 \n",
       "Q 1244 3125 1098 2667 \n",
       "Q 953 2209 953 1734 \n",
       "Q 953 1081 1287 751 \n",
       "Q 1622 422 2284 422 \n",
       "Q 2616 422 2925 492 \n",
       "Q 3234 563 3494 697 \n",
       "z\n",
       "\" transform=\"scale(0.015625)\"/>\n",
       "      </defs>\n",
       "      <use xlink:href=\"#DejaVuSans-Oblique-47\" transform=\"translate(0 0.125)\"/>\n",
       "      <use xlink:href=\"#DejaVuSans-28\" transform=\"translate(77.490234 0.125)\"/>\n",
       "      <use xlink:href=\"#DejaVuSans-Oblique-73\" transform=\"translate(116.503906 0.125)\"/>\n",
       "      <use xlink:href=\"#DejaVuSans-29\" transform=\"translate(168.603516 0.125)\"/>\n",
       "     </g>\n",
       "    </g>\n",
       "   </g>\n",
       "   <g id=\"text_7\">\n",
       "    <g clip-path=\"url(#pc6a496dd34)\">\n",
       "     <!-- - -->\n",
       "     <g transform=\"translate(83.423234 69.129219) scale(0.125 -0.125)\">\n",
       "      <defs>\n",
       "       <path id=\"DejaVuSans-2d\" d=\"M 313 2009 \n",
       "L 1997 2009 \n",
       "L 1997 1497 \n",
       "L 313 1497 \n",
       "L 313 2009 \n",
       "z\n",
       "\" transform=\"scale(0.015625)\"/>\n",
       "      </defs>\n",
       "      <use xlink:href=\"#DejaVuSans-2d\"/>\n",
       "     </g>\n",
       "    </g>\n",
       "   </g>\n",
       "   <g id=\"patch_8\">\n",
       "    <path d=\"M 236.343 37.375 \n",
       "C 236.951641 37.375 237.535436 37.133184 237.96581 36.70281 \n",
       "C 238.396184 36.272436 238.638 35.688641 238.638 35.08 \n",
       "C 238.638 34.471359 238.396184 33.887564 237.96581 33.45719 \n",
       "C 237.535436 33.026816 236.951641 32.785 236.343 32.785 \n",
       "C 235.734359 32.785 235.150564 33.026816 234.72019 33.45719 \n",
       "C 234.289816 33.887564 234.048 34.471359 234.048 35.08 \n",
       "C 234.048 35.688641 234.289816 36.272436 234.72019 36.70281 \n",
       "C 235.150564 37.133184 235.734359 37.375 236.343 37.375 \n",
       "z\n",
       "\" clip-path=\"url(#pc6a496dd34)\" style=\"stroke: #000000; stroke-width: 2; stroke-linejoin: miter\"/>\n",
       "   </g>\n",
       "  </g>\n",
       " </g>\n",
       " <defs>\n",
       "  <clipPath id=\"pc6a496dd34\">\n",
       "   <rect x=\"7.2\" y=\"7.2\" width=\"255.153\" height=\"92.14\"/>\n",
       "  </clipPath>\n",
       " </defs>\n",
       "</svg>\n"
      ],
      "text/plain": [
       "<schemdraw.backends.mpl.Figure object at 0x0000024A61F21480>"
      ]
     },
     "execution_count": 1,
     "metadata": {},
     "output_type": "execute_result"
    }
   ],
   "source": [
    "import schemdraw as schem\n",
    "import schemdraw.elements as e\n",
    "from schemdraw import dsp \n",
    "d = schem.Drawing()\n",
    "a1=d.add(dsp.Arrow(l=d.unit/2).label('+', loc='right',ofst=(-.6, .2)).label('$In$', loc='left'))\n",
    "sm = d.add(dsp.SumSigma())\n",
    "a2=d.add(dsp.Arrow(l=d.unit/2))\n",
    "delay1 = d.add(dsp.Box(w=2, h=1, label='$H(s)$', anchor='W'))\n",
    "a3=d.add(dsp.Arrow('right', l=d.unit/2, xy=delay1.E,label='Out'))\n",
    "#a4=d.add(dsp.Arrow(xy=sm.S, theta=-90,l=d.unit/2,reverse=True).label('-', loc='right',ofst=(.6, .2)))\n",
    "d.add(dsp.Dot(xy=a3.center))\n",
    "l1=d.add(dsp.Line('down', xy=a3.center, l=.5*d.unit))\n",
    "l2=d.add(dsp.Arrow('left', l=.5*d.unit))\n",
    "g2 = d.add(dsp.Box(w=1.1, h=1, label='$G(s)$', anchor='E'))\n",
    "l3=d.add(dsp.Line('left', tox=sm.S, xy=g2.W))\n",
    "l4=d.add(dsp.Arrow('up', toy=sm.S,label='-'))\n",
    "d.draw()\n",
    "\n",
    " "
   ]
  },
  {
   "cell_type": "markdown",
   "id": "fedf1b4c",
   "metadata": {},
   "source": [
    "## Deriving the transfer function, Q(s) of the system.\n",
    "Input and outputs are all functions of s.\n",
    "$$Out=In\\times H-Out\\times G \\times H$$\n",
    "$$Out\\left(1+ G\\times H \\right)=In\\times H$$\n",
    "$$Q(s)=\\frac{Out}{In}=\\frac{H}{1+GH}$$"
   ]
  },
  {
   "cell_type": "markdown",
   "id": "d801093a",
   "metadata": {},
   "source": [
    "The simplest for $G(s)$ can take is **Proportional**. $$G(s)=K$$, where K is a real number.  Another simple form for $G(s)$ is **Proportional plus Derivative (PD)**, where $G(s)=K\\times s$  K is the scaler  constant and $s=\\sigma+j\\omega$. The last simple form is **Proportional plus Integral (PI)** where $G(s)=\\frac{K}{s}$. PID controllers have all three elements, where $G(s)=K_1+K_2s+K_3\\frac{1}{s}$.  The subscripted K values are all scale factors."
   ]
  },
  {
   "cell_type": "markdown",
   "id": "6531cbb0",
   "metadata": {},
   "source": [
    "## Example\n",
    "Find $Q(s)=\\frac{H(s)}{1+G(s)\\times H(s)}$ when $G(s)=K$, $sK$, and $\\frac{K}{s}$ and $H(s)=\\frac{10}{s}$"
   ]
  },
  {
   "cell_type": "code",
   "execution_count": 2,
   "id": "547219bc",
   "metadata": {},
   "outputs": [
    {
     "data": {
      "text/latex": [
       "$\\displaystyle \\frac{10}{s \\left(\\frac{10 K}{s} + 1\\right)}$"
      ],
      "text/plain": [
       "10/(s*(10*K/s + 1))"
      ]
     },
     "execution_count": 2,
     "metadata": {},
     "output_type": "execute_result"
    }
   ],
   "source": [
    "from sympy import symbols\n",
    "from sympy import *\n",
    "s= symbols(\"s\", positive=True)\n",
    "t,K= symbols(\"t,K\", real=True)\n",
    "H=10/s\n",
    "G=K\n",
    "Q=H/(1+G*H)\n",
    "Q"
   ]
  },
  {
   "cell_type": "code",
   "execution_count": 3,
   "id": "9f2d8242",
   "metadata": {},
   "outputs": [
    {
     "data": {
      "text/latex": [
       "$\\displaystyle \\frac{10}{10 K + s}$"
      ],
      "text/plain": [
       "10/(10*K + s)"
      ]
     },
     "execution_count": 3,
     "metadata": {},
     "output_type": "execute_result"
    }
   ],
   "source": [
    "Q.expand()"
   ]
  },
  {
   "cell_type": "markdown",
   "id": "15096055",
   "metadata": {},
   "source": [
    "We can see that when when $G(s)=K$and  $H(s)=\\frac{10}{s}$ we get a low pass filter.  The DC gain is "
   ]
  },
  {
   "cell_type": "code",
   "execution_count": 4,
   "id": "2f442d2d",
   "metadata": {},
   "outputs": [
    {
     "data": {
      "text/latex": [
       "$\\displaystyle \\frac{1}{K}$"
      ],
      "text/plain": [
       "1/K"
      ]
     },
     "execution_count": 4,
     "metadata": {},
     "output_type": "execute_result"
    }
   ],
   "source": [
    "Gain=limit(Q, s, 0) \n",
    "Gain"
   ]
  },
  {
   "cell_type": "markdown",
   "id": "ae307b40",
   "metadata": {},
   "source": [
    "This is also a first order system with  a real pole."
   ]
  },
  {
   "cell_type": "code",
   "execution_count": 5,
   "id": "4bfd9aa8",
   "metadata": {},
   "outputs": [
    {
     "data": {
      "text/plain": [
       "[-10*K]"
      ]
     },
     "execution_count": 5,
     "metadata": {},
     "output_type": "execute_result"
    }
   ],
   "source": [
    "num, de=fraction(Q)\n",
    "Pole=solve(de, s)\n",
    "Pole"
   ]
  },
  {
   "cell_type": "markdown",
   "id": "ca61ca14",
   "metadata": {},
   "source": [
    "The breakpoints of the frequency response (Bode plot) would be:"
   ]
  },
  {
   "cell_type": "code",
   "execution_count": 6,
   "id": "1a2482b2",
   "metadata": {},
   "outputs": [
    {
     "data": {
      "text/latex": [
       "$\\displaystyle 10 \\left|{K}\\right|$"
      ],
      "text/plain": [
       "10*Abs(K)"
      ]
     },
     "execution_count": 6,
     "metadata": {},
     "output_type": "execute_result"
    }
   ],
   "source": [
    "w0=abs(Pole[0])\n",
    "w0"
   ]
  },
  {
   "cell_type": "markdown",
   "id": "fce189b3",
   "metadata": {},
   "source": [
    "## Example\n",
    "Find $Q(s)=\\frac{H(s)}{1+G(s)\\times H(s)}$ when  $G(s)=sK$ and $H(s)=\\frac{10}{s}$"
   ]
  },
  {
   "cell_type": "code",
   "execution_count": 7,
   "id": "827eea6a",
   "metadata": {},
   "outputs": [
    {
     "data": {
      "text/latex": [
       "$\\displaystyle \\frac{10}{s \\left(10 K + 1\\right)}$"
      ],
      "text/plain": [
       "10/(s*(10*K + 1))"
      ]
     },
     "execution_count": 7,
     "metadata": {},
     "output_type": "execute_result"
    }
   ],
   "source": [
    "H=10/s\n",
    "G=s*K\n",
    "Q=H/(1+G*H)\n",
    "Q"
   ]
  },
  {
   "cell_type": "markdown",
   "id": "af78bff0",
   "metadata": {},
   "source": [
    "$Q(s)$ is now an integrator with  a scale factor of: "
   ]
  },
  {
   "cell_type": "code",
   "execution_count": 8,
   "id": "97afd5f4",
   "metadata": {},
   "outputs": [
    {
     "data": {
      "text/latex": [
       "$\\displaystyle \\frac{10}{10 K + 1}$"
      ],
      "text/plain": [
       "10/(10*K + 1)"
      ]
     },
     "execution_count": 8,
     "metadata": {},
     "output_type": "execute_result"
    }
   ],
   "source": [
    "Scale=limit(Q,s,1)\n",
    "Scale"
   ]
  },
  {
   "cell_type": "markdown",
   "id": "473b3242",
   "metadata": {},
   "source": [
    "## Example\n",
    "Find $Q(s)=\\frac{H(s)}{1+G(s)\\times H(s)}$ when $G(s)=\\frac{K}{s}$ and $H(s)=\\frac{10}{s}$"
   ]
  },
  {
   "cell_type": "code",
   "execution_count": 9,
   "id": "011c3eb1",
   "metadata": {},
   "outputs": [
    {
     "data": {
      "text/latex": [
       "$\\displaystyle \\frac{10 s}{10 K + s^{2}}$"
      ],
      "text/plain": [
       "10*s/(10*K + s**2)"
      ]
     },
     "execution_count": 9,
     "metadata": {},
     "output_type": "execute_result"
    }
   ],
   "source": [
    "H=10/s\n",
    "G=K/s\n",
    "Q=H/(1+G*H)\n",
    "Q=Q.expand().normal()\n",
    "Q"
   ]
  },
  {
   "cell_type": "markdown",
   "id": "c482687d",
   "metadata": {},
   "source": [
    "This is an oscillator given that the inverse Laplace transform is:"
   ]
  },
  {
   "cell_type": "code",
   "execution_count": 10,
   "id": "0f624af9",
   "metadata": {},
   "outputs": [
    {
     "data": {
      "text/latex": [
       "$\\displaystyle 10.0 \\cos{\\left(\\sqrt{10} t \\right)} \\theta\\left(t\\right)$"
      ],
      "text/plain": [
       "10.0*cos(sqrt(10)*t)*Heaviside(t)"
      ]
     },
     "execution_count": 10,
     "metadata": {},
     "output_type": "execute_result"
    }
   ],
   "source": [
    "Q=Q.subs(K,1)\n",
    "z=inverse_laplace_transform(Q,s,t).evalf().simplify()\n",
    "z"
   ]
  },
  {
   "cell_type": "markdown",
   "id": "31913690",
   "metadata": {},
   "source": [
    "## Systems \"in control\" and \"out of control\".\n",
    "Mathematically control is all about the poles.  If the real part of all the poles are on the left hand side of the complex plane (less than zero), then the system is in control.  The system can be in control even if the poles are complex, as long as the real part is less than zero.  A system is out of control if any pole has a real part that is equal to or greater than zero.\n",
    "\n",
    "## What does being in control really mean?\n",
    "\n",
    "A system is in control if you input a step function and the system's output eventually settles to a constant value.  (Sometimes an underdamped system can take \"too long\" to settle to a constant value and this situation informally known as being out of control.) "
   ]
  },
  {
   "cell_type": "markdown",
   "id": "0232d419",
   "metadata": {},
   "source": [
    "## Example 1 system in control-First order low pass filter\n",
    "$H(s)=\\frac{10}{s+10}$\n",
    "\n",
    "$h(t)=10\\times e^{-10t}u(t)$\n",
    "\n",
    "$f(t)=u(t)*h(t)=L^{-1}\\left(\\frac{1}{s}\\times\\frac{10}{s+10} \\right)=\\left(1-e^{-10t}\\right)u(t)$"
   ]
  },
  {
   "cell_type": "code",
   "execution_count": 11,
   "id": "a2f0100a",
   "metadata": {},
   "outputs": [
    {
     "name": "stdout",
     "output_type": "stream",
     "text": [
      "ExprDict({-10: 1})\n"
     ]
    },
    {
     "data": {
      "image/png": "[encoded data removed]",
      "text/plain": [
       "<Figure size 1000x1000 with 5 Axes>"
      ]
     },
     "metadata": {},
     "output_type": "display_data"
    }
   ],
   "source": [
    "from lcapy import s, j, pi, f, transfer ,t, cos,sin\n",
    "from matplotlib.pyplot import savefig\n",
    "import matplotlib.pyplot as plt\n",
    "from matplotlib.pyplot import subplots\n",
    "from numpy import logspace\n",
    "from numpy import linspace\n",
    "import numpy as np\n",
    "from matplotlib.pyplot import style\n",
    "wo=10\n",
    "H=transfer(wo/(s+wo)).simplify()\n",
    "print(H.simplify().poles())\n",
    "G=1/s \n",
    "F=H*G\n",
    "ft=F(t, causal=True) \n",
    "#impluse\n",
    "Hti=H(t, causal=True) \n",
    "# create half circle for pole zero\n",
    "theta=linspace(np.pi/2.0,6*np.pi/4.0,num=50)\n",
    "x=np.cos(theta)\n",
    "y=np.sin(theta)\n",
    "\n",
    "figs,((ax1,ax2),(ax3,ax4)) = subplots(2,2,figsize=(10,10))\n",
    "\n",
    "ax1.plot(x,y,color='red')\n",
    "ax1=H.plot(axes=ax1)\n",
    "ax1.set_xlabel(\"$\\sigma (r/s)$\") \n",
    "ax1.set_ylabel(\"$j\\omega (r/s)$\")\n",
    "ax1.set_title(\"Pole Zero Plot\")\n",
    "ax1.set_xlim([-12,1])\n",
    "\n",
    "A = H.subs(j * f)\n",
    "fv = logspace(-1, 3, 400)\n",
    "tv = linspace(-.001, 500e-3, 400)\n",
    "ax2=A.plot(fv, log_frequency=True,axes=ax2,ylabel=\"Magnitude(dB)\",xlabel='$\\omega (r/s)$')\n",
    "ax2[0].set_title(\"Bode Plot\")\n",
    "ax2[0].set_ylim([-40,10])\n",
    "ax3=ft.plot(tv,axes=ax3,ylabel='Signal Voltage(V)')\n",
    "ax3.set_title(\"Step Response\")\n",
    " \n",
    "ax4=Hti.plot(tv,axes=ax4,ylabel='Signal Voltage(V)')\n",
    "ax4.set_title(\"Impluse Response\")\n",
    "\n",
    "figs.tight_layout(pad=2.5, w_pad=2.5, h_pad=2.5)\n",
    "style.use('seaborn-v0_8') \n"
   ]
  }
 ],
 "metadata": {
  "kernelspec": {
   "display_name": "Python 3 (ipykernel)",
   "language": "python",
   "name": "python3"
  },
  "language_info": {
   "codemirror_mode": {
    "name": "ipython",
    "version": 3
   },
   "file_extension": ".py",
   "mimetype": "text/x-python",
   "name": "python",
   "nbconvert_exporter": "python",
   "pygments_lexer": "ipython3",
   "version": "3.10.9"
  }
 },
 "nbformat": 4,
 "nbformat_minor": 5
}
